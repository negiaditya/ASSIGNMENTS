{
 "cells": [
  {
   "cell_type": "code",
   "execution_count": 1,
   "metadata": {},
   "outputs": [],
   "source": [
    "import pandas as pd\n",
    "import numpy as np"
   ]
  },
  {
   "cell_type": "code",
   "execution_count": 2,
   "metadata": {},
   "outputs": [],
   "source": [
    "x1=np.random.randint(low=1,high=20,size=(50,))"
   ]
  },
  {
   "cell_type": "code",
   "execution_count": 3,
   "metadata": {},
   "outputs": [],
   "source": [
    "x2=np.random.randint(low=1,high=20,size=50)"
   ]
  },
  {
   "cell_type": "code",
   "execution_count": 4,
   "metadata": {},
   "outputs": [],
   "source": [
    " y=3+2*x1-4*x2+np.random.random((50,))"
   ]
  },
  {
   "cell_type": "code",
   "execution_count": 5,
   "metadata": {},
   "outputs": [],
   "source": [
    "x=pd.DataFrame({'intercept':np.ones_like(x1),'x1':x1,'x2':x2})\n",
    "\n"
   ]
  },
  {
   "cell_type": "code",
   "execution_count": 14,
   "metadata": {},
   "outputs": [
    {
     "data": {
      "text/plain": [
       "array([0., 0., 0.])"
      ]
     },
     "execution_count": 14,
     "metadata": {},
     "output_type": "execute_result"
    }
   ],
   "source": [
    "w=np.zeros(x.shape[1])\n",
    "w"
   ]
  },
  {
   "cell_type": "code",
   "execution_count": 21,
   "metadata": {},
   "outputs": [
    {
     "data": {
      "text/plain": [
       "array([0., 0., 0., 0., 0., 0., 0., 0., 0., 0., 0., 0., 0., 0., 0., 0., 0.,\n",
       "       0., 0., 0., 0., 0., 0., 0., 0., 0., 0., 0., 0., 0., 0., 0., 0., 0.,\n",
       "       0., 0., 0., 0., 0., 0., 0., 0., 0., 0., 0., 0., 0., 0., 0., 0.])"
      ]
     },
     "execution_count": 21,
     "metadata": {},
     "output_type": "execute_result"
    }
   ],
   "source": [
    "def mypredictions(features,weights):\n",
    "    predictions=np.dot(features,weights) #dot gives dot product\n",
    "    return(predictions)\n",
    "mypredictions(x,w)"
   ]
  },
  {
   "cell_type": "code",
   "execution_count": 23,
   "metadata": {},
   "outputs": [],
   "source": [
    "def myerror(target,features,weights):\n",
    "    error=target-mypredictions(features,weights)\n",
    "    return(error)"
   ]
  },
  {
   "cell_type": "code",
   "execution_count": 26,
   "metadata": {},
   "outputs": [],
   "source": [
    "def mycost(target,features,weights):\n",
    "    error=myerror(target,features,weights)\n",
    "    cost=np.dot(error.T,error)\n",
    "    return(cost)"
   ]
  },
  {
   "cell_type": "code",
   "execution_count": 27,
   "metadata": {},
   "outputs": [
    {
     "data": {
      "text/plain": [
       "31415.19794065957"
      ]
     },
     "execution_count": 27,
     "metadata": {},
     "output_type": "execute_result"
    }
   ],
   "source": [
    "mycost(y,x,w)"
   ]
  },
  {
   "cell_type": "code",
   "execution_count": 28,
   "metadata": {},
   "outputs": [],
   "source": [
    "def gradient(target,features,weights):\n",
    "    error=myerror(target,features,weights)\n",
    "    gradient=-np.dot(features.T,error)\n",
    "    return(gradient)"
   ]
  },
  {
   "cell_type": "code",
   "execution_count": 29,
   "metadata": {},
   "outputs": [
    {
     "data": {
      "text/plain": [
       "array([  671.2414452 ,  6209.96448997, 11544.58398772])"
      ]
     },
     "execution_count": 29,
     "metadata": {},
     "output_type": "execute_result"
    }
   ],
   "source": [
    "gradient(y,x,w)"
   ]
  },
  {
   "cell_type": "code",
   "execution_count": null,
   "metadata": {},
   "outputs": [],
   "source": [
    "def my_lr(target,features,learning_rate):\n",
    "    weights=np.zeros(features.shape[1])\n",
    "    for i in np.arange(1000000):\n",
    "        weights=weights-learning_rate*gradient(target,features,weights)\n",
    "        weights[0]-=10*learning_rate*gradient(target,features,weights)[0]\n",
    "        if i%10000==0:\n",
    "            print(mycost(target,features,weights),weights)\n",
    "    return(weights)\n",
    "    \n",
    "        \n",
    "    "
   ]
  },
  {
   "cell_type": "code",
   "execution_count": null,
   "metadata": {},
   "outputs": [
    {
     "name": "stdout",
     "output_type": "stream",
     "text": [
      "31063.60999745047 [-0.00729815 -0.00620996 -0.01154458]\n",
      "21.678100358183915 [ 2.00049311  2.08272895 -3.95385787]\n",
      "7.11255894886645 [ 2.85330572  2.03489862 -3.97982194]\n",
      "4.256047837071174 [ 3.23094441  2.0136068  -3.99120222]\n",
      "3.6958403731385365 [ 3.39818164  2.00417771 -3.99624196]\n",
      "3.5859747397282273 [ 3.47224262  2.00000204 -3.99847381]\n",
      "3.564428333830862 [ 3.50504051  1.99815284 -3.99946219]\n",
      "3.560202739414423 [ 3.51956505  1.99733393 -3.99989989]\n",
      "3.559374032842335 [ 3.52599724  1.99697127 -4.00009373]\n",
      "3.559211510244343 [ 3.52884574  1.99681067 -4.00017957]\n",
      "3.5591796369664523 [ 3.53010719  1.99673954 -4.00021758]\n",
      "3.559173386107468 [ 3.53066583  1.99670805 -4.00023442]\n",
      "3.5591721602141475 [ 3.53091322  1.9966941  -4.00024187]\n",
      "3.5591719197968934 [ 3.53102278  1.99668792 -4.00024517]\n"
     ]
    }
   ],
   "source": [
    "my_lr(y,x,0.000001)"
   ]
  },
  {
   "cell_type": "code",
   "execution_count": 35,
   "metadata": {},
   "outputs": [],
   "source": [
    "from sklearn.linear_model import LinearRegression"
   ]
  },
  {
   "cell_type": "code",
   "execution_count": null,
   "metadata": {},
   "outputs": [],
   "source": [
    "lr=LinearRegression()"
   ]
  },
  {
   "cell_type": "code",
   "execution_count": null,
   "metadata": {},
   "outputs": [],
   "source": [
    "lr.fit(x.iloc[:,1:],y)"
   ]
  },
  {
   "cell_type": "code",
   "execution_count": null,
   "metadata": {},
   "outputs": [],
   "source": [
    "lr.coef_"
   ]
  },
  {
   "cell_type": "code",
   "execution_count": null,
   "metadata": {},
   "outputs": [],
   "source": [
    "lr.intercept_"
   ]
  },
  {
   "cell_type": "code",
   "execution_count": null,
   "metadata": {},
   "outputs": [],
   "source": []
  }
 ],
 "metadata": {
  "kernelspec": {
   "display_name": "Python 3",
   "language": "python",
   "name": "python3"
  },
  "language_info": {
   "codemirror_mode": {
    "name": "ipython",
    "version": 3
   },
   "file_extension": ".py",
   "mimetype": "text/x-python",
   "name": "python",
   "nbconvert_exporter": "python",
   "pygments_lexer": "ipython3",
   "version": "3.7.0"
  }
 },
 "nbformat": 4,
 "nbformat_minor": 2
}
